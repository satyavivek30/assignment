{
  "nbformat": 4,
  "nbformat_minor": 0,
  "metadata": {
    "colab": {
      "provenance": []
    },
    "kernelspec": {
      "name": "python3",
      "display_name": "Python 3"
    },
    "language_info": {
      "name": "python"
    }
  },
  "cells": [
    {
      "cell_type": "markdown",
      "source": [
        "Consider the below code to answer further questions:\n",
        "\n",
        "```\n",
        "import numpy as np\n",
        "list_ = [ ‘1’ , ’2’ , ‘3’ , ‘4’ , ‘5’ ]\n",
        "array_list = np.array(object = list_)\n",
        "```\n"
      ],
      "metadata": {
        "id": "F8HUkpu1lN0e"
      }
    },
    {
      "cell_type": "markdown",
      "source": [
        "**Question 1** Is there any difference in the data type of variables list_ and array_list? If there is then write a code\n",
        "to print the data types of both the variables."
      ],
      "metadata": {
        "id": "8gwdZro8lm5b"
      }
    },
    {
      "cell_type": "markdown",
      "source": [
        "**Answer** Yes, there is a difference in the data type of the variables list_ and array_list.\n",
        "\n",
        "list_ is a Python list containing strings.\n",
        "\n",
        "array_list is a NumPy array containing strings."
      ],
      "metadata": {
        "id": "wAzjMXmgl0cH"
      }
    },
    {
      "cell_type": "code",
      "source": [
        "import numpy as np\n",
        "\n",
        "list_ = ['1', '2', '3', '4', '5']\n",
        "array_list = np.array(object=list_)"
      ],
      "metadata": {
        "id": "XaeVfR4Ml7ar"
      },
      "execution_count": 2,
      "outputs": []
    },
    {
      "cell_type": "code",
      "source": [
        "print(\"Data type of list_:\", type(list_))\n",
        "\n",
        "print(\"Data type of array_list:\", type(array_list))"
      ],
      "metadata": {
        "colab": {
          "base_uri": "https://localhost:8080/"
        },
        "id": "BFt_iDzJlNiC",
        "outputId": "fc7e5e9a-35bd-47fe-8ded-f7c2e8a1cbd3"
      },
      "execution_count": 3,
      "outputs": [
        {
          "output_type": "stream",
          "name": "stdout",
          "text": [
            "Data type of list_: <class 'list'>\n",
            "Data type of array_list: <class 'numpy.ndarray'>\n"
          ]
        }
      ]
    },
    {
      "cell_type": "markdown",
      "source": [
        "**Question2** Write a code to print the data type of each and every element of both the variables list_ and\n",
        "arra_list.\n",
        "\n",
        "**Answer**"
      ],
      "metadata": {
        "id": "wzp3y-6TmcqE"
      }
    },
    {
      "cell_type": "code",
      "source": [
        "print(\"Data types of elements in list_:\")\n",
        "for element in list_:\n",
        "    print(type(element))"
      ],
      "metadata": {
        "colab": {
          "base_uri": "https://localhost:8080/"
        },
        "id": "gGvkZYs9miHS",
        "outputId": "c7da9d06-8233-4521-bebf-3f10d656f5a5"
      },
      "execution_count": 4,
      "outputs": [
        {
          "output_type": "stream",
          "name": "stdout",
          "text": [
            "Data types of elements in list_:\n",
            "<class 'str'>\n",
            "<class 'str'>\n",
            "<class 'str'>\n",
            "<class 'str'>\n",
            "<class 'str'>\n"
          ]
        }
      ]
    },
    {
      "cell_type": "code",
      "source": [
        "print(\"Data types of elements in array_list:\")\n",
        "for element in array_list:\n",
        "    print(type(element))"
      ],
      "metadata": {
        "colab": {
          "base_uri": "https://localhost:8080/"
        },
        "id": "a-_uEoPQmN4C",
        "outputId": "150cefa0-4dea-43d3-c6bf-6dc3c601ffcb"
      },
      "execution_count": 5,
      "outputs": [
        {
          "output_type": "stream",
          "name": "stdout",
          "text": [
            "Data types of elements in array_list:\n",
            "<class 'numpy.str_'>\n",
            "<class 'numpy.str_'>\n",
            "<class 'numpy.str_'>\n",
            "<class 'numpy.str_'>\n",
            "<class 'numpy.str_'>\n"
          ]
        }
      ]
    },
    {
      "cell_type": "markdown",
      "source": [
        "**Question - 3** Considering the following changes in the variable, array_list:\n",
        "\n",
        "```array_list = np.array(object = list_, dtype = int)```\n",
        "\n",
        "Will there be any difference in the data type of the elements present in both the variables, list_ and\n",
        "arra_list? If so then print the data types of each and every element present in both the variables, list_\n",
        "and arra_list.\n",
        "\n",
        "**Answer**"
      ],
      "metadata": {
        "id": "UDgaYxBcm8ai"
      }
    },
    {
      "cell_type": "code",
      "source": [
        "array_list = np.array(object=list_, dtype=int)"
      ],
      "metadata": {
        "id": "f7I2oW8nncF-"
      },
      "execution_count": 7,
      "outputs": []
    },
    {
      "cell_type": "code",
      "source": [
        "print(\"Data types of elements in list_:\")\n",
        "for element in list_:\n",
        "    print(type(element))\n"
      ],
      "metadata": {
        "colab": {
          "base_uri": "https://localhost:8080/"
        },
        "id": "VQ84qW_xn8Jx",
        "outputId": "baa6c2eb-a38f-433b-f3b7-1ee818239e5e"
      },
      "execution_count": 8,
      "outputs": [
        {
          "output_type": "stream",
          "name": "stdout",
          "text": [
            "Data types of elements in list_:\n",
            "<class 'str'>\n",
            "<class 'str'>\n",
            "<class 'str'>\n",
            "<class 'str'>\n",
            "<class 'str'>\n"
          ]
        }
      ]
    },
    {
      "cell_type": "code",
      "source": [
        "print(\"Data types of elements in array_list:\")\n",
        "for element in array_list:\n",
        "    print(type(element))"
      ],
      "metadata": {
        "colab": {
          "base_uri": "https://localhost:8080/"
        },
        "id": "f-BXFS-4oAyF",
        "outputId": "9420bcfc-2d56-441a-a04c-8e9d38339901"
      },
      "execution_count": 9,
      "outputs": [
        {
          "output_type": "stream",
          "name": "stdout",
          "text": [
            "Data types of elements in array_list:\n",
            "<class 'numpy.int64'>\n",
            "<class 'numpy.int64'>\n",
            "<class 'numpy.int64'>\n",
            "<class 'numpy.int64'>\n",
            "<class 'numpy.int64'>\n"
          ]
        }
      ]
    },
    {
      "cell_type": "markdown",
      "source": [
        "Consider the below code to answer further questions:\n",
        "```\n",
        "import numpy as np\n",
        "num_list = [ [ 1 , 2 , 3 ] , [ 4 , 5 , 6 ] ]\n",
        "num_array = np.array(object = num_list)\n",
        "```\n"
      ],
      "metadata": {
        "id": "ROaZfdnyn001"
      }
    },
    {
      "cell_type": "markdown",
      "source": [
        "**Question4** Write a code to find the following characteristics of variable, num_array:\n",
        "(i) shape\n",
        "(ii) size\n"
      ],
      "metadata": {
        "id": "fZGHypWtoLEJ"
      }
    },
    {
      "cell_type": "code",
      "source": [
        "import numpy as np\n",
        "num_list = [ [ 1 , 2 , 3 ] , [ 4 , 5 , 6 ] ]\n",
        "num_array = np.array(object = num_list)"
      ],
      "metadata": {
        "id": "GH_WEoYOmojZ"
      },
      "execution_count": 10,
      "outputs": []
    },
    {
      "cell_type": "code",
      "source": [
        "print(\"Shape of num_array:\", num_array.shape)"
      ],
      "metadata": {
        "colab": {
          "base_uri": "https://localhost:8080/"
        },
        "id": "eLYifkcVoS3A",
        "outputId": "0f8d70cf-616e-43eb-c5a1-4e7d36899ba0"
      },
      "execution_count": 11,
      "outputs": [
        {
          "output_type": "stream",
          "name": "stdout",
          "text": [
            "Shape of num_array: (2, 3)\n"
          ]
        }
      ]
    },
    {
      "cell_type": "code",
      "source": [
        "print(\"Size of num_array:\", num_array.size)"
      ],
      "metadata": {
        "colab": {
          "base_uri": "https://localhost:8080/"
        },
        "id": "56SXuDAYoU26",
        "outputId": "4c604e63-0663-4356-cd2b-cee034b29837"
      },
      "execution_count": 12,
      "outputs": [
        {
          "output_type": "stream",
          "name": "stdout",
          "text": [
            "Size of num_array: 6\n"
          ]
        }
      ]
    },
    {
      "cell_type": "markdown",
      "source": [
        "**Question 5 :** Write a code to create numpy array of 3*3 matrix containing zeros only, using a numpy array\n",
        "creation function.\n"
      ],
      "metadata": {
        "id": "13X9kU9Aobb_"
      }
    },
    {
      "cell_type": "code",
      "source": [
        "import numpy as np\n",
        "zero_matrix = np.zeros((3, 3))\n",
        "\n",
        "print(\"3x3 matrix of zeros:\")\n",
        "print(zero_matrix)"
      ],
      "metadata": {
        "colab": {
          "base_uri": "https://localhost:8080/"
        },
        "id": "GWkM5MI3oW8j",
        "outputId": "cc9c2143-ae89-4a04-a199-6eb409c5e87f"
      },
      "execution_count": 13,
      "outputs": [
        {
          "output_type": "stream",
          "name": "stdout",
          "text": [
            "3x3 matrix of zeros:\n",
            "[[0. 0. 0.]\n",
            " [0. 0. 0.]\n",
            " [0. 0. 0.]]\n"
          ]
        }
      ]
    },
    {
      "cell_type": "markdown",
      "source": [
        "**Question 6** Create an identity matrix of shape (5,5) using numpy functions?"
      ],
      "metadata": {
        "id": "LxpNYD68owEP"
      }
    },
    {
      "cell_type": "code",
      "source": [
        "import numpy as np\n",
        "\n",
        "identity_matrix = np.eye(5)\n",
        "\n",
        "print(\"5x5 identity matrix:\")\n",
        "print(identity_matrix)\n"
      ],
      "metadata": {
        "colab": {
          "base_uri": "https://localhost:8080/"
        },
        "id": "p3KyQIOHor9A",
        "outputId": "3a0d6f93-d53d-4cf6-db22-6c08c316d022"
      },
      "execution_count": 14,
      "outputs": [
        {
          "output_type": "stream",
          "name": "stdout",
          "text": [
            "5x5 identity matrix:\n",
            "[[1. 0. 0. 0. 0.]\n",
            " [0. 1. 0. 0. 0.]\n",
            " [0. 0. 1. 0. 0.]\n",
            " [0. 0. 0. 1. 0.]\n",
            " [0. 0. 0. 0. 1.]]\n"
          ]
        }
      ]
    },
    {
      "cell_type": "code",
      "source": [],
      "metadata": {
        "id": "P74KG7suo5Gh"
      },
      "execution_count": null,
      "outputs": []
    }
  ]
}