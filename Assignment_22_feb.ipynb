{
  "nbformat": 4,
  "nbformat_minor": 0,
  "metadata": {
    "colab": {
      "provenance": []
    },
    "kernelspec": {
      "name": "python3",
      "display_name": "Python 3"
    },
    "language_info": {
      "name": "python"
    }
  },
  "cells": [
    {
      "cell_type": "markdown",
      "source": [
        "## Assignment 22-Feb-2023\n"
      ],
      "metadata": {
        "id": "l2ADL4VCDoi8"
      }
    },
    {
      "cell_type": "markdown",
      "source": [
        "**Q1):**Create a Pandas Series that contains the following data: 4, 8, 15, 16, 23, and 42. Then, print the series."
      ],
      "metadata": {
        "id": "RkqB9-s9D49n"
      }
    },
    {
      "cell_type": "code",
      "execution_count": 2,
      "metadata": {
        "colab": {
          "base_uri": "https://localhost:8080/"
        },
        "id": "be6nVkRRDbib",
        "outputId": "bc790130-cf8c-4667-9b49-e3ffa833591d"
      },
      "outputs": [
        {
          "output_type": "stream",
          "name": "stdout",
          "text": [
            "0     4\n",
            "1     8\n",
            "2    15\n",
            "3    16\n",
            "4    23\n",
            "5    42\n",
            "dtype: int64\n"
          ]
        }
      ],
      "source": [
        "import pandas as pd\n",
        "\n",
        "data  = [4,8,15,16,23,42]\n",
        "series = pd.Series(data)\n",
        "\n",
        "print(series)"
      ]
    },
    {
      "cell_type": "markdown",
      "source": [
        "**Q2):** Create a variable of list type containing 10 elements in it, and apply pandas.Series function on the variable print it."
      ],
      "metadata": {
        "id": "3o2_eboREcxz"
      }
    },
    {
      "cell_type": "code",
      "source": [
        "import pandas as pd\n",
        "\n",
        "lst = [1,2,3,4,5,6,7,8,9,10]\n",
        "result = pd.Series(lst)\n",
        "print(result)"
      ],
      "metadata": {
        "colab": {
          "base_uri": "https://localhost:8080/"
        },
        "id": "spuZtF3mD-6K",
        "outputId": "719d50fd-d217-4b78-ba61-abd3ab30a587"
      },
      "execution_count": 3,
      "outputs": [
        {
          "output_type": "stream",
          "name": "stdout",
          "text": [
            "0     1\n",
            "1     2\n",
            "2     3\n",
            "3     4\n",
            "4     5\n",
            "5     6\n",
            "6     7\n",
            "7     8\n",
            "8     9\n",
            "9    10\n",
            "dtype: int64\n"
          ]
        }
      ]
    },
    {
      "cell_type": "markdown",
      "source": [
        "**Q3):** Q3. Create a Pandas DataFrame that contains the following data:\n",
        "\n",
        "Name -> Alice, Bob, Claire\\\n",
        "Age -> 25, 30, 27\\\n",
        "Gender -> Female, Male, Female\n",
        "\n",
        "Then print the data frame.\n"
      ],
      "metadata": {
        "id": "PIrIMBF4FGrk"
      }
    },
    {
      "cell_type": "code",
      "source": [
        "import pandas as pd\n",
        "\n",
        "data = {\n",
        "    'Name' : ['Alice','Bob','Claire'],\n",
        "    'Age' : [25, 30, 27],\n",
        "    'Gender':['Female', 'Male','Female']\n",
        "}\n",
        "\n",
        "result = pd.DataFrame(data)\n",
        "print(result)"
      ],
      "metadata": {
        "colab": {
          "base_uri": "https://localhost:8080/"
        },
        "id": "SODwEwiMExr7",
        "outputId": "52f42b83-d011-4f86-86ad-89466f2fb633"
      },
      "execution_count": 6,
      "outputs": [
        {
          "output_type": "stream",
          "name": "stdout",
          "text": [
            "     Name  Age  Gender\n",
            "0   Alice   25  Female\n",
            "1     Bob   30    Male\n",
            "2  Claire   27  Female\n"
          ]
        }
      ]
    },
    {
      "cell_type": "markdown",
      "source": [
        "**Q4):** What is ‘DataFrame’ in pandas and how is it different from pandas.series? Explain with an example."
      ],
      "metadata": {
        "id": "X-Pf3evwG58E"
      }
    },
    {
      "cell_type": "markdown",
      "source": [
        "**Solution:**\n",
        "Dataframe in pandas is two dimensional labelled data structure that can storesata of different types(numeric, string, boolean) in columns.\n",
        "\n",
        "It is similar to a table in a relational database or a spreadsheet in excel.\n",
        "**Each columnn in Dataframe is a Panda Series**\n",
        "\n",
        "A Pandas Series on the othre hand is one dimensional labelled array capable of holding any data types."
      ],
      "metadata": {
        "id": "1PEnR4nk4j9r"
      }
    },
    {
      "cell_type": "code",
      "source": [
        "import pandas as pd\n",
        "\n",
        "series = pd.Series([7,8,9,4,5,8], name = 'numbers')\n",
        "\n",
        "data = {\n",
        "    'Name' : ['Alice','Bob','Claire'],\n",
        "    'Age' : [25, 30, 27],\n",
        "    'Gender':['Female', 'Male','Female']\n",
        "}\n",
        "\n",
        "print(series)\n",
        "df = pd.DataFrame(data)\n",
        "print(df)\n",
        "\n"
      ],
      "metadata": {
        "colab": {
          "base_uri": "https://localhost:8080/"
        },
        "id": "bc3sRomJGmxZ",
        "outputId": "95f07038-5fd5-4383-b83e-bb0cc10bb86d"
      },
      "execution_count": 2,
      "outputs": [
        {
          "output_type": "stream",
          "name": "stdout",
          "text": [
            "0    7\n",
            "1    8\n",
            "2    9\n",
            "3    4\n",
            "4    5\n",
            "5    8\n",
            "Name: numbers, dtype: int64\n",
            "     Name  Age  Gender\n",
            "0   Alice   25  Female\n",
            "1     Bob   30    Male\n",
            "2  Claire   27  Female\n"
          ]
        }
      ]
    },
    {
      "cell_type": "markdown",
      "source": [
        "**Q5):** What are some common functions you can use to manipulate data in a Pandas DataFrame? Can\n",
        "you give an example of when you might use one of these functions?"
      ],
      "metadata": {
        "id": "8WouUGgh6aBV"
      }
    },
    {
      "cell_type": "markdown",
      "source": [
        "**solution:** Common funtion that can be used to mainpluate data in Pandas DataFrame are as follows :\n",
        "\n",
        "\n",
        "\n",
        "1. **head() and tail():** This function allow you to retrive the top 5 and last 5 data from DataFrame.\n",
        "```\n",
        "df.head()\n",
        "df.tail()\n",
        "```\n",
        "2. **info():** It provide the consize summery of DataFrame.\n",
        "```\n",
        "df.info()\n",
        "```\n",
        "3. **drop():** It is used to remove row or column from DataFrame.\n",
        "```\n",
        "df.drop()\n",
        "```\n",
        "4. **groupby():** This function is used for grouping and aggregating data based on specific columns.\n",
        "```\n",
        "df.groupby('Gender')['Age'].mean()\n",
        "```"
      ],
      "metadata": {
        "id": "-MfRQk7a6fsJ"
      }
    },
    {
      "cell_type": "code",
      "source": [
        "import pandas as pd\n",
        "\n",
        "data ={\n",
        "        'Name': ['John', 'Emma', 'Michael', 'Sophia'],\n",
        "        'Age': [25, 32, 41, 28],\n",
        "        'Gender': ['Male', 'Female', 'Male', 'Female'],\n",
        "        'Grade': [88, 95, 79, 92]\n",
        "}\n",
        "\n",
        "df = pd.DataFrame(data)\n",
        "print(df)"
      ],
      "metadata": {
        "colab": {
          "base_uri": "https://localhost:8080/"
        },
        "id": "htIGwmNA5_ik",
        "outputId": "23427469-8c6b-4c18-8063-f60edaa59c3f"
      },
      "execution_count": 7,
      "outputs": [
        {
          "output_type": "stream",
          "name": "stdout",
          "text": [
            "      Name  Age  Gender  Grade\n",
            "0     John   25    Male     88\n",
            "1     Emma   32  Female     95\n",
            "2  Michael   41    Male     79\n",
            "3   Sophia   28  Female     92\n"
          ]
        }
      ]
    },
    {
      "cell_type": "code",
      "source": [
        "print(df.head(1))"
      ],
      "metadata": {
        "colab": {
          "base_uri": "https://localhost:8080/"
        },
        "id": "QpWzdVaiAZZ3",
        "outputId": "757fbb65-bdff-48de-d0a4-b8aec98bed1e"
      },
      "execution_count": 10,
      "outputs": [
        {
          "output_type": "stream",
          "name": "stdout",
          "text": [
            "   Name  Age Gender  Grade\n",
            "0  John   25   Male     88\n"
          ]
        }
      ]
    },
    {
      "cell_type": "code",
      "source": [
        "print(df.tail(2))"
      ],
      "metadata": {
        "colab": {
          "base_uri": "https://localhost:8080/"
        },
        "id": "ZvUWx3yHAvwD",
        "outputId": "d1698ee7-90ee-44e9-ef33-a486eb7bdaf6"
      },
      "execution_count": 11,
      "outputs": [
        {
          "output_type": "stream",
          "name": "stdout",
          "text": [
            "      Name  Age  Gender  Grade\n",
            "2  Michael   41    Male     79\n",
            "3   Sophia   28  Female     92\n"
          ]
        }
      ]
    },
    {
      "cell_type": "code",
      "source": [
        "print(df.info())"
      ],
      "metadata": {
        "colab": {
          "base_uri": "https://localhost:8080/"
        },
        "id": "hNoLQOFtAynz",
        "outputId": "d9ce660a-5049-4984-b4dc-f00f5129beab"
      },
      "execution_count": 12,
      "outputs": [
        {
          "output_type": "stream",
          "name": "stdout",
          "text": [
            "<class 'pandas.core.frame.DataFrame'>\n",
            "RangeIndex: 4 entries, 0 to 3\n",
            "Data columns (total 4 columns):\n",
            " #   Column  Non-Null Count  Dtype \n",
            "---  ------  --------------  ----- \n",
            " 0   Name    4 non-null      object\n",
            " 1   Age     4 non-null      int64 \n",
            " 2   Gender  4 non-null      object\n",
            " 3   Grade   4 non-null      int64 \n",
            "dtypes: int64(2), object(2)\n",
            "memory usage: 256.0+ bytes\n",
            "None\n"
          ]
        }
      ]
    },
    {
      "cell_type": "code",
      "source": [
        "print(df.drop('Grade', axis = 1, inplace=True))\n"
      ],
      "metadata": {
        "id": "BlxzW7oKA7mY"
      },
      "execution_count": null,
      "outputs": []
    },
    {
      "cell_type": "code",
      "source": [
        "print(df)"
      ],
      "metadata": {
        "colab": {
          "base_uri": "https://localhost:8080/"
        },
        "id": "nN-uVLAaA_vX",
        "outputId": "61c5f156-b33b-4513-834a-833d56ada0c2"
      },
      "execution_count": 17,
      "outputs": [
        {
          "output_type": "stream",
          "name": "stdout",
          "text": [
            "      Name  Age  Gender\n",
            "0     John   25    Male\n",
            "1     Emma   32  Female\n",
            "2  Michael   41    Male\n",
            "3   Sophia   28  Female\n"
          ]
        }
      ]
    },
    {
      "cell_type": "markdown",
      "source": [
        "**Q6):**Which of the following is mutable in nature Series, DataFrame, Panel?"
      ],
      "metadata": {
        "id": "aibvU30oBxZS"
      }
    },
    {
      "cell_type": "markdown",
      "source": [
        "**Solution:**\n",
        "\n",
        "**Series:** A pandas Series is mutable but size is not mutable. You can change the values in s Series by assigning new values to specific indices or by applying operation that modify the series in -place.\n",
        "\n",
        "**DataFrames:** A pandas in DataFrame is also mutable. You can modify the values of specifc cells, and remove columns, rename columns or perfor various operation that after the content or structure of the DataFrame.\n",
        "\n",
        "**Panel:** It is a 3D data structure with heterogeneous data. The size and data in panels are mutable.\n"
      ],
      "metadata": {
        "id": "UVibasjoB2k6"
      }
    },
    {
      "cell_type": "markdown",
      "source": [
        "**Q7):** Create a DataFrame using multiple Series. Explain with an example."
      ],
      "metadata": {
        "id": "1OGzfq0qFI0y"
      }
    },
    {
      "cell_type": "code",
      "source": [
        "import pandas as pd\n",
        "\n",
        "name_series = pd.Series(['abc','def','xyz','pqr'])\n",
        "age_series = pd.Series([23,32,21,34])\n",
        "gender_series = pd.Series(['M','M','F','F'])\n",
        "\n",
        "data = {'Name':name_series,'Age':age_series,'Gender':gender_series}\n",
        "\n",
        "df = pd.DataFrame(data)\n",
        "print(df)"
      ],
      "metadata": {
        "colab": {
          "base_uri": "https://localhost:8080/"
        },
        "id": "2LIxF2WsBeH2",
        "outputId": "de0bb405-86ff-42af-df4d-1ce980a8b469"
      },
      "execution_count": 18,
      "outputs": [
        {
          "output_type": "stream",
          "name": "stdout",
          "text": [
            "  Name  Age Gender\n",
            "0  abc   23      M\n",
            "1  def   32      M\n",
            "2  xyz   21      F\n",
            "3  pqr   34      F\n"
          ]
        }
      ]
    },
    {
      "cell_type": "code",
      "source": [],
      "metadata": {
        "id": "S_4VH1mNGFEu"
      },
      "execution_count": null,
      "outputs": []
    }
  ]
}